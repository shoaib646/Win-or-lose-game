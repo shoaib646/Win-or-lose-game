{
 "cells": [
  {
   "cell_type": "code",
   "execution_count": 13,
   "metadata": {},
   "outputs": [
    {
     "name": "stdout",
     "output_type": "stream",
     "text": [
      "Testcase:1\n",
      "No of Players:5\n",
      "Strength of villans: 112 243 512 343 90 478\n",
      "Energy of Player: 500 789 234 400 452 150\n",
      "Output: WIN\n"
     ]
    }
   ],
   "source": [
    "def main():\n",
    "    \n",
    "    testCases=int(input('Testcase:'))    \n",
    "    count=0\n",
    "    result=[]    \n",
    "    while testCases>0:         \n",
    "        numberOfPlayer=int(input('No of Players:'))\n",
    "      \n",
    "        villian=[int(x) for x in input('Strength of villans: ').strip().split()]  \n",
    "        \n",
    "        player= [int(x) for x in input('Energy of Player: ').strip().split()]\n",
    "        \n",
    "        villian.sort(reverse=True)\n",
    "#         player\n",
    "        player.sort(reverse=True)\n",
    "        start=0\n",
    "\n",
    "       \n",
    "        for i in range(numberOfPlayer):\n",
    "            for j in range(start,numberOfPlayer):\n",
    "                start=0\n",
    "        \n",
    "        for i in range(numberOfPlayer):\n",
    "            for j in range(start,numberOfPlayer): \n",
    "                if player[i]>villian[j]:\n",
    "                    start=j+1\n",
    "                    count+=1\n",
    "                    break\n",
    "        if (count==numberOfPlayer):\n",
    "            result.append(\"WIN\") \n",
    "            testCases-=1\n",
    "        else:\n",
    "            result.append(\"LOSE\")\n",
    "            testCases-=1\n",
    "        count=0\n",
    "    \n",
    "    for result in result:\n",
    "        print(f'Output: {result}')\n",
    "main()"
   ]
  },
  {
   "cell_type": "code",
   "execution_count": 11,
   "metadata": {},
   "outputs": [
    {
     "data": {
      "text/plain": [
       "['abcdd']"
      ]
     },
     "execution_count": 11,
     "metadata": {},
     "output_type": "execute_result"
    }
   ],
   "source": [
    "'abcdd'.split()"
   ]
  },
  {
   "cell_type": "code",
   "execution_count": null,
   "metadata": {},
   "outputs": [],
   "source": []
  }
 ],
 "metadata": {
  "kernelspec": {
   "display_name": "Python 3",
   "language": "python",
   "name": "python3"
  }
 },
 "nbformat": 4,
 "nbformat_minor": 4
}
